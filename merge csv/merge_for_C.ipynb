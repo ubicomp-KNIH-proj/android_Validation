{
 "cells": [
  {
   "cell_type": "code",
   "execution_count": 16,
   "metadata": {},
   "outputs": [],
   "source": [
    "import pandas as pd\n",
    "import glob\n",
    "import os\n",
    "\n",
    "\n",
    "def createFolder(directory):\n",
    "    try:\n",
    "        if not os.path.exists(directory):\n",
    "            os.makedirs(directory)\n",
    "    except OSError:\n",
    "        print(\"Error: Creating directory. \" + directory)\n",
    "\n",
    "\n",
    "MEMBERS = [\"601\", \"602\", \"603\", \"604\", \"605\", \"606\", \"607\", \"608\", \"609\", \"610\",\n",
    "           \"611\", \"612\", \"613\", \"614\", \"615\", \"616\", \"617\", \"618\", \"619\", \"620\",\n",
    "           \"621\", \"622\", \"623\", \"624\", \"625\", \"627\", \"628\", \"629\", \"630\", \"631\",\n",
    "           \"632\", \"633\", \"634\", \"635\", \"636\", \"637\", \"638\", \"639\", \"641\", \"643\",\n",
    "           \"644\", \"645\", \"650\", \"651\", \"652\", \"653\", \"660\", \"661\", \"663\", \"664\",\n",
    "           \"665\"]"
   ]
  },
  {
   "cell_type": "code",
   "execution_count": 17,
   "metadata": {},
   "outputs": [
    {
     "name": "stdout",
     "output_type": "stream",
     "text": [
      "606 [Errno 2] No such file or directory: './tasking/606.csv'\n"
     ]
    }
   ],
   "source": [
    "createFolder(\"./merged\")\n",
    "\n",
    "try:\n",
    "    for member in MEMBERS:\n",
    "\n",
    "        targetFATH = \"./tasking/\" + member + \".csv\"\n",
    "        saveFATH = \"./merged/\" + member + \".csv\"\n",
    "\n",
    "        # 파일 Union 선언\n",
    "        df = pd.DataFrame()\n",
    "        temp_df = pd.read_csv(targetFATH)\n",
    "        df = df.append(temp_df, ignore_index=True)\n",
    "\n",
    "        df.drop_duplicates(['date'], keep = 'first')\n",
    "\n",
    "        #  파일저장\n",
    "        df.to_csv(path_or_buf=saveFATH,\n",
    "                    sep=\",\",\n",
    "                    na_rep=\"0\",\n",
    "                    float_format=\"%.2f\",  # 2 decimal places\n",
    "                    index=False)  # do not write index\n",
    "except Exception as e:\n",
    "    print(member, e)\n",
    "    pass\n"
   ]
  },
  {
   "cell_type": "code",
   "execution_count": null,
   "metadata": {},
   "outputs": [],
   "source": []
  }
 ],
 "metadata": {
  "kernelspec": {
   "display_name": "base",
   "language": "python",
   "name": "python3"
  },
  "language_info": {
   "codemirror_mode": {
    "name": "ipython",
    "version": 3
   },
   "file_extension": ".py",
   "mimetype": "text/x-python",
   "name": "python",
   "nbconvert_exporter": "python",
   "pygments_lexer": "ipython3",
   "version": "3.8.8"
  },
  "orig_nbformat": 4,
  "vscode": {
   "interpreter": {
    "hash": "ad2bdc8ecc057115af97d19610ffacc2b4e99fae6737bb82f5d7fb13d2f2c186"
   }
  }
 },
 "nbformat": 4,
 "nbformat_minor": 2
}
